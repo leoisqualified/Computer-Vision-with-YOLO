{
  "nbformat": 4,
  "nbformat_minor": 0,
  "metadata": {
    "colab": {
      "provenance": [],
      "gpuType": "T4"
    },
    "kernelspec": {
      "name": "python3",
      "display_name": "Python 3"
    },
    "language_info": {
      "name": "python"
    },
    "accelerator": "GPU"
  },
  "cells": [
    {
      "cell_type": "code",
      "execution_count": 1,
      "metadata": {
        "colab": {
          "base_uri": "https://localhost:8080/",
          "height": 53
        },
        "id": "LWAOEHc6hvnq",
        "outputId": "01cd11b0-4e35-4b0e-cc43-a7bd3912d49c"
      },
      "outputs": [
        {
          "output_type": "execute_result",
          "data": {
            "text/plain": [
              "'\\nThis notebook is a submission to the zindi crop detection challenge. The aim of the challenge is to predict the\\ntype of disease affecting a crop using YOLO (You Only Look Once) model.\\n'"
            ],
            "application/vnd.google.colaboratory.intrinsic+json": {
              "type": "string"
            }
          },
          "metadata": {},
          "execution_count": 1
        }
      ],
      "source": [
        "'''\n",
        "This notebook is a submission to the zindi crop detection challenge. The aim of the challenge is to predict the\n",
        "type of disease affecting a crop using YOLO (You Only Look Once) model.\n",
        "'''"
      ]
    },
    {
      "source": [
        "#import required libraries\n",
        "import requests\n",
        "from PIL import Image\n",
        "from zipfile import ZipFile\n",
        "import os\n",
        "import shutil\n",
        "from sklearn.preprocessing import LabelEncoder\n",
        "import pandas as pd\n",
        "import numpy as np\n",
        "import matplotlib.pyplot as plt\n",
        "import torch\n",
        "import yaml\n",
        "\n",
        "#install YOLOv5\n",
        "!git clone https://github.com/ultralytics/yolov5\n",
        "%cd yolov5\n",
        "%pip install -qr requirements.txt\n",
        "\n",
        "# Add the yolov5 directory to the Python path\n",
        "import sys\n",
        "sys.path.append('/content/yolov5')\n",
        "\n",
        "#check if GPU is available\n",
        "print(f'GPU Available: {torch.cuda.is_available()}')"
      ],
      "cell_type": "code",
      "metadata": {
        "colab": {
          "base_uri": "https://localhost:8080/"
        },
        "id": "tPpTrXvalqWO",
        "outputId": "accfcc8b-4e2e-4424-8558-e78321a6df54"
      },
      "execution_count": 2,
      "outputs": [
        {
          "output_type": "stream",
          "name": "stdout",
          "text": [
            "Cloning into 'yolov5'...\n",
            "remote: Enumerating objects: 17022, done.\u001b[K\n",
            "remote: Counting objects: 100% (217/217), done.\u001b[K\n",
            "remote: Compressing objects: 100% (146/146), done.\u001b[K\n",
            "remote: Total 17022 (delta 122), reused 131 (delta 71), pack-reused 16805 (from 1)\u001b[K\n",
            "Receiving objects: 100% (17022/17022), 15.74 MiB | 9.35 MiB/s, done.\n",
            "Resolving deltas: 100% (11660/11660), done.\n",
            "/content/yolov5\n",
            "\u001b[2K   \u001b[90m━━━━━━━━━━━━━━━━━━━━━━━━━━━━━━━━━━━━━━━━\u001b[0m \u001b[32m876.6/876.6 kB\u001b[0m \u001b[31m23.3 MB/s\u001b[0m eta \u001b[36m0:00:00\u001b[0m\n",
            "\u001b[?25hGPU Available: True\n"
          ]
        }
      ]
    },
    {
      "cell_type": "code",
      "source": [
        "'''\n",
        "We have added YOLO and checked our GPU availability. Next we will see how we can read the images from the drive,\n",
        "Convert the annotated data into YOLO format, train and make predictions.\n",
        "'''"
      ],
      "metadata": {
        "colab": {
          "base_uri": "https://localhost:8080/",
          "height": 53
        },
        "id": "UDuKT79loWNl",
        "outputId": "aca96723-2179-4399-8eab-47255a448865"
      },
      "execution_count": 3,
      "outputs": [
        {
          "output_type": "execute_result",
          "data": {
            "text/plain": [
              "'\\nWe have added YOLO and checked our GPU availability. Next we will see how we can read the images from the drive,\\nConvert the annotated data into YOLO format, train and make predictions.\\n'"
            ],
            "application/vnd.google.colaboratory.intrinsic+json": {
              "type": "string"
            }
          },
          "metadata": {},
          "execution_count": 3
        }
      ]
    },
    {
      "cell_type": "markdown",
      "source": [
        "#Set Kaggle API & Download Dataset"
      ],
      "metadata": {
        "id": "aUQP9JA_bDrX"
      }
    },
    {
      "cell_type": "code",
      "source": [
        "#from google.colab import files\n",
        "#files.upload()   This will prompt you to upload the kaggle.json file"
      ],
      "metadata": {
        "id": "pozlRpqBmH4p"
      },
      "execution_count": 4,
      "outputs": []
    },
    {
      "cell_type": "code",
      "source": [
        "# Create a Kaggle directory\n",
        "#os.makedirs('/root/.kaggle', exist_ok=True)\n",
        "\n",
        "# Move the kaggle.json file to the appropriate location\n",
        "#!cp kaggle.json /root/.kaggle/\n",
        "\n",
        "# Set permissions for the kaggle.json file\n",
        "#!chmod 600 /root/.kaggle/kaggle.json\n"
      ],
      "metadata": {
        "id": "UyHE_xgubCfX"
      },
      "execution_count": 5,
      "outputs": []
    },
    {
      "cell_type": "code",
      "source": [
        "# Download the dataset\n",
        "#!kaggle datasets download -d ohagwucollinspatrick/ghana-crop-disease"
      ],
      "metadata": {
        "id": "7ENkQsU0dwg3"
      },
      "execution_count": 6,
      "outputs": []
    },
    {
      "cell_type": "code",
      "source": [
        "# Mount Google Drive\n",
        "#from google.colab import drive\n",
        "#drive.mount('/content/drive')"
      ],
      "metadata": {
        "id": "4J1bQKkvfjjY"
      },
      "execution_count": 7,
      "outputs": []
    },
    {
      "cell_type": "code",
      "source": [
        "# Upload the dataset\n",
        "#!mv ghana-crop-disease.zip /content/drive/MyDrive/"
      ],
      "metadata": {
        "id": "Rs-ogkT3fxYt"
      },
      "execution_count": 8,
      "outputs": []
    },
    {
      "cell_type": "code",
      "source": [
        "'''\n",
        "The dataset has been downloaded and uploaded to google drive. Run the above cells to get the dataset.\n",
        "Run the cells below to continue the project.\n",
        "'''"
      ],
      "metadata": {
        "colab": {
          "base_uri": "https://localhost:8080/",
          "height": 36
        },
        "id": "H1l6L7UqgIlI",
        "outputId": "c5bc1c75-387d-4071-dadb-86c202544e10"
      },
      "execution_count": 9,
      "outputs": [
        {
          "output_type": "execute_result",
          "data": {
            "text/plain": [
              "'\\nThe dataset has been downloaded and uploaded to google drive. Run the above cells to get the dataset.\\nRun the cells below to continue the project.\\n'"
            ],
            "application/vnd.google.colaboratory.intrinsic+json": {
              "type": "string"
            }
          },
          "metadata": {},
          "execution_count": 9
        }
      ]
    },
    {
      "cell_type": "code",
      "source": [
        "# Mount Google Drive\n",
        "from google.colab import drive\n",
        "drive.mount('/content/drive')"
      ],
      "metadata": {
        "colab": {
          "base_uri": "https://localhost:8080/"
        },
        "id": "nCT2jK6tT-gI",
        "outputId": "25a17e0a-b37c-4d02-9757-db4f1ac68269"
      },
      "execution_count": 10,
      "outputs": [
        {
          "output_type": "stream",
          "name": "stdout",
          "text": [
            "Mounted at /content/drive\n"
          ]
        }
      ]
    },
    {
      "cell_type": "markdown",
      "source": [
        "#Data Preprocessing and Validation"
      ],
      "metadata": {
        "id": "I7jtECAoi_PY"
      }
    },
    {
      "cell_type": "code",
      "source": [
        "# Load the annotation csv\n",
        "train = pd.read_csv('/content/drive/MyDrive/zindi_train.csv')\n",
        "\n",
        "# Check the data\n",
        "train.head()"
      ],
      "metadata": {
        "id": "rA7NVUxFjQFI",
        "colab": {
          "base_uri": "https://localhost:8080/",
          "height": 206
        },
        "outputId": "9ad163bb-57f9-47f6-a5dc-9a353b89d5e2"
      },
      "execution_count": 11,
      "outputs": [
        {
          "output_type": "execute_result",
          "data": {
            "text/plain": [
              "        Image_ID  confidence                  class         ymin        xmin  \\\n",
              "0  id_11543h.jpg         1.0  Pepper_Bacterial_Spot   194.649671  328.803454   \n",
              "1  id_11543h.jpg         1.0  Pepper_Bacterial_Spot   149.632401  256.768914   \n",
              "2  id_11543h.jpg         1.0  Pepper_Bacterial_Spot   234.046875  327.138158   \n",
              "3  id_11543h.jpg         1.0  Pepper_Bacterial_Spot   221.277138  340.411184   \n",
              "4  id_11ee1c.jpg         1.0        Pepper_Fusarium  2000.563598  989.588908   \n",
              "\n",
              "          ymax         xmax  \n",
              "0   208.107730   341.967928  \n",
              "1   162.910362   266.195724  \n",
              "2   252.712993   338.876645  \n",
              "3   238.593750   354.651316  \n",
              "4  2184.252196  1401.748952  "
            ],
            "text/html": [
              "\n",
              "  <div id=\"df-37c0ecba-1e83-42a3-b6c9-6962d8789eb4\" class=\"colab-df-container\">\n",
              "    <div>\n",
              "<style scoped>\n",
              "    .dataframe tbody tr th:only-of-type {\n",
              "        vertical-align: middle;\n",
              "    }\n",
              "\n",
              "    .dataframe tbody tr th {\n",
              "        vertical-align: top;\n",
              "    }\n",
              "\n",
              "    .dataframe thead th {\n",
              "        text-align: right;\n",
              "    }\n",
              "</style>\n",
              "<table border=\"1\" class=\"dataframe\">\n",
              "  <thead>\n",
              "    <tr style=\"text-align: right;\">\n",
              "      <th></th>\n",
              "      <th>Image_ID</th>\n",
              "      <th>confidence</th>\n",
              "      <th>class</th>\n",
              "      <th>ymin</th>\n",
              "      <th>xmin</th>\n",
              "      <th>ymax</th>\n",
              "      <th>xmax</th>\n",
              "    </tr>\n",
              "  </thead>\n",
              "  <tbody>\n",
              "    <tr>\n",
              "      <th>0</th>\n",
              "      <td>id_11543h.jpg</td>\n",
              "      <td>1.0</td>\n",
              "      <td>Pepper_Bacterial_Spot</td>\n",
              "      <td>194.649671</td>\n",
              "      <td>328.803454</td>\n",
              "      <td>208.107730</td>\n",
              "      <td>341.967928</td>\n",
              "    </tr>\n",
              "    <tr>\n",
              "      <th>1</th>\n",
              "      <td>id_11543h.jpg</td>\n",
              "      <td>1.0</td>\n",
              "      <td>Pepper_Bacterial_Spot</td>\n",
              "      <td>149.632401</td>\n",
              "      <td>256.768914</td>\n",
              "      <td>162.910362</td>\n",
              "      <td>266.195724</td>\n",
              "    </tr>\n",
              "    <tr>\n",
              "      <th>2</th>\n",
              "      <td>id_11543h.jpg</td>\n",
              "      <td>1.0</td>\n",
              "      <td>Pepper_Bacterial_Spot</td>\n",
              "      <td>234.046875</td>\n",
              "      <td>327.138158</td>\n",
              "      <td>252.712993</td>\n",
              "      <td>338.876645</td>\n",
              "    </tr>\n",
              "    <tr>\n",
              "      <th>3</th>\n",
              "      <td>id_11543h.jpg</td>\n",
              "      <td>1.0</td>\n",
              "      <td>Pepper_Bacterial_Spot</td>\n",
              "      <td>221.277138</td>\n",
              "      <td>340.411184</td>\n",
              "      <td>238.593750</td>\n",
              "      <td>354.651316</td>\n",
              "    </tr>\n",
              "    <tr>\n",
              "      <th>4</th>\n",
              "      <td>id_11ee1c.jpg</td>\n",
              "      <td>1.0</td>\n",
              "      <td>Pepper_Fusarium</td>\n",
              "      <td>2000.563598</td>\n",
              "      <td>989.588908</td>\n",
              "      <td>2184.252196</td>\n",
              "      <td>1401.748952</td>\n",
              "    </tr>\n",
              "  </tbody>\n",
              "</table>\n",
              "</div>\n",
              "    <div class=\"colab-df-buttons\">\n",
              "\n",
              "  <div class=\"colab-df-container\">\n",
              "    <button class=\"colab-df-convert\" onclick=\"convertToInteractive('df-37c0ecba-1e83-42a3-b6c9-6962d8789eb4')\"\n",
              "            title=\"Convert this dataframe to an interactive table.\"\n",
              "            style=\"display:none;\">\n",
              "\n",
              "  <svg xmlns=\"http://www.w3.org/2000/svg\" height=\"24px\" viewBox=\"0 -960 960 960\">\n",
              "    <path d=\"M120-120v-720h720v720H120Zm60-500h600v-160H180v160Zm220 220h160v-160H400v160Zm0 220h160v-160H400v160ZM180-400h160v-160H180v160Zm440 0h160v-160H620v160ZM180-180h160v-160H180v160Zm440 0h160v-160H620v160Z\"/>\n",
              "  </svg>\n",
              "    </button>\n",
              "\n",
              "  <style>\n",
              "    .colab-df-container {\n",
              "      display:flex;\n",
              "      gap: 12px;\n",
              "    }\n",
              "\n",
              "    .colab-df-convert {\n",
              "      background-color: #E8F0FE;\n",
              "      border: none;\n",
              "      border-radius: 50%;\n",
              "      cursor: pointer;\n",
              "      display: none;\n",
              "      fill: #1967D2;\n",
              "      height: 32px;\n",
              "      padding: 0 0 0 0;\n",
              "      width: 32px;\n",
              "    }\n",
              "\n",
              "    .colab-df-convert:hover {\n",
              "      background-color: #E2EBFA;\n",
              "      box-shadow: 0px 1px 2px rgba(60, 64, 67, 0.3), 0px 1px 3px 1px rgba(60, 64, 67, 0.15);\n",
              "      fill: #174EA6;\n",
              "    }\n",
              "\n",
              "    .colab-df-buttons div {\n",
              "      margin-bottom: 4px;\n",
              "    }\n",
              "\n",
              "    [theme=dark] .colab-df-convert {\n",
              "      background-color: #3B4455;\n",
              "      fill: #D2E3FC;\n",
              "    }\n",
              "\n",
              "    [theme=dark] .colab-df-convert:hover {\n",
              "      background-color: #434B5C;\n",
              "      box-shadow: 0px 1px 3px 1px rgba(0, 0, 0, 0.15);\n",
              "      filter: drop-shadow(0px 1px 2px rgba(0, 0, 0, 0.3));\n",
              "      fill: #FFFFFF;\n",
              "    }\n",
              "  </style>\n",
              "\n",
              "    <script>\n",
              "      const buttonEl =\n",
              "        document.querySelector('#df-37c0ecba-1e83-42a3-b6c9-6962d8789eb4 button.colab-df-convert');\n",
              "      buttonEl.style.display =\n",
              "        google.colab.kernel.accessAllowed ? 'block' : 'none';\n",
              "\n",
              "      async function convertToInteractive(key) {\n",
              "        const element = document.querySelector('#df-37c0ecba-1e83-42a3-b6c9-6962d8789eb4');\n",
              "        const dataTable =\n",
              "          await google.colab.kernel.invokeFunction('convertToInteractive',\n",
              "                                                    [key], {});\n",
              "        if (!dataTable) return;\n",
              "\n",
              "        const docLinkHtml = 'Like what you see? Visit the ' +\n",
              "          '<a target=\"_blank\" href=https://colab.research.google.com/notebooks/data_table.ipynb>data table notebook</a>'\n",
              "          + ' to learn more about interactive tables.';\n",
              "        element.innerHTML = '';\n",
              "        dataTable['output_type'] = 'display_data';\n",
              "        await google.colab.output.renderOutput(dataTable, element);\n",
              "        const docLink = document.createElement('div');\n",
              "        docLink.innerHTML = docLinkHtml;\n",
              "        element.appendChild(docLink);\n",
              "      }\n",
              "    </script>\n",
              "  </div>\n",
              "\n",
              "\n",
              "<div id=\"df-43b0656e-b0fa-456e-b169-171e4a51d346\">\n",
              "  <button class=\"colab-df-quickchart\" onclick=\"quickchart('df-43b0656e-b0fa-456e-b169-171e4a51d346')\"\n",
              "            title=\"Suggest charts\"\n",
              "            style=\"display:none;\">\n",
              "\n",
              "<svg xmlns=\"http://www.w3.org/2000/svg\" height=\"24px\"viewBox=\"0 0 24 24\"\n",
              "     width=\"24px\">\n",
              "    <g>\n",
              "        <path d=\"M19 3H5c-1.1 0-2 .9-2 2v14c0 1.1.9 2 2 2h14c1.1 0 2-.9 2-2V5c0-1.1-.9-2-2-2zM9 17H7v-7h2v7zm4 0h-2V7h2v10zm4 0h-2v-4h2v4z\"/>\n",
              "    </g>\n",
              "</svg>\n",
              "  </button>\n",
              "\n",
              "<style>\n",
              "  .colab-df-quickchart {\n",
              "      --bg-color: #E8F0FE;\n",
              "      --fill-color: #1967D2;\n",
              "      --hover-bg-color: #E2EBFA;\n",
              "      --hover-fill-color: #174EA6;\n",
              "      --disabled-fill-color: #AAA;\n",
              "      --disabled-bg-color: #DDD;\n",
              "  }\n",
              "\n",
              "  [theme=dark] .colab-df-quickchart {\n",
              "      --bg-color: #3B4455;\n",
              "      --fill-color: #D2E3FC;\n",
              "      --hover-bg-color: #434B5C;\n",
              "      --hover-fill-color: #FFFFFF;\n",
              "      --disabled-bg-color: #3B4455;\n",
              "      --disabled-fill-color: #666;\n",
              "  }\n",
              "\n",
              "  .colab-df-quickchart {\n",
              "    background-color: var(--bg-color);\n",
              "    border: none;\n",
              "    border-radius: 50%;\n",
              "    cursor: pointer;\n",
              "    display: none;\n",
              "    fill: var(--fill-color);\n",
              "    height: 32px;\n",
              "    padding: 0;\n",
              "    width: 32px;\n",
              "  }\n",
              "\n",
              "  .colab-df-quickchart:hover {\n",
              "    background-color: var(--hover-bg-color);\n",
              "    box-shadow: 0 1px 2px rgba(60, 64, 67, 0.3), 0 1px 3px 1px rgba(60, 64, 67, 0.15);\n",
              "    fill: var(--button-hover-fill-color);\n",
              "  }\n",
              "\n",
              "  .colab-df-quickchart-complete:disabled,\n",
              "  .colab-df-quickchart-complete:disabled:hover {\n",
              "    background-color: var(--disabled-bg-color);\n",
              "    fill: var(--disabled-fill-color);\n",
              "    box-shadow: none;\n",
              "  }\n",
              "\n",
              "  .colab-df-spinner {\n",
              "    border: 2px solid var(--fill-color);\n",
              "    border-color: transparent;\n",
              "    border-bottom-color: var(--fill-color);\n",
              "    animation:\n",
              "      spin 1s steps(1) infinite;\n",
              "  }\n",
              "\n",
              "  @keyframes spin {\n",
              "    0% {\n",
              "      border-color: transparent;\n",
              "      border-bottom-color: var(--fill-color);\n",
              "      border-left-color: var(--fill-color);\n",
              "    }\n",
              "    20% {\n",
              "      border-color: transparent;\n",
              "      border-left-color: var(--fill-color);\n",
              "      border-top-color: var(--fill-color);\n",
              "    }\n",
              "    30% {\n",
              "      border-color: transparent;\n",
              "      border-left-color: var(--fill-color);\n",
              "      border-top-color: var(--fill-color);\n",
              "      border-right-color: var(--fill-color);\n",
              "    }\n",
              "    40% {\n",
              "      border-color: transparent;\n",
              "      border-right-color: var(--fill-color);\n",
              "      border-top-color: var(--fill-color);\n",
              "    }\n",
              "    60% {\n",
              "      border-color: transparent;\n",
              "      border-right-color: var(--fill-color);\n",
              "    }\n",
              "    80% {\n",
              "      border-color: transparent;\n",
              "      border-right-color: var(--fill-color);\n",
              "      border-bottom-color: var(--fill-color);\n",
              "    }\n",
              "    90% {\n",
              "      border-color: transparent;\n",
              "      border-bottom-color: var(--fill-color);\n",
              "    }\n",
              "  }\n",
              "</style>\n",
              "\n",
              "  <script>\n",
              "    async function quickchart(key) {\n",
              "      const quickchartButtonEl =\n",
              "        document.querySelector('#' + key + ' button');\n",
              "      quickchartButtonEl.disabled = true;  // To prevent multiple clicks.\n",
              "      quickchartButtonEl.classList.add('colab-df-spinner');\n",
              "      try {\n",
              "        const charts = await google.colab.kernel.invokeFunction(\n",
              "            'suggestCharts', [key], {});\n",
              "      } catch (error) {\n",
              "        console.error('Error during call to suggestCharts:', error);\n",
              "      }\n",
              "      quickchartButtonEl.classList.remove('colab-df-spinner');\n",
              "      quickchartButtonEl.classList.add('colab-df-quickchart-complete');\n",
              "    }\n",
              "    (() => {\n",
              "      let quickchartButtonEl =\n",
              "        document.querySelector('#df-43b0656e-b0fa-456e-b169-171e4a51d346 button');\n",
              "      quickchartButtonEl.style.display =\n",
              "        google.colab.kernel.accessAllowed ? 'block' : 'none';\n",
              "    })();\n",
              "  </script>\n",
              "</div>\n",
              "\n",
              "    </div>\n",
              "  </div>\n"
            ],
            "application/vnd.google.colaboratory.intrinsic+json": {
              "type": "dataframe",
              "variable_name": "train",
              "summary": "{\n  \"name\": \"train\",\n  \"rows\": 41029,\n  \"fields\": [\n    {\n      \"column\": \"Image_ID\",\n      \"properties\": {\n        \"dtype\": \"category\",\n        \"num_unique_values\": 4902,\n        \"samples\": [\n          \"id_zojjxe.jpg\",\n          \"id_qr5uko.jpg\",\n          \"id_7l5tt2.jpg\"\n        ],\n        \"semantic_type\": \"\",\n        \"description\": \"\"\n      }\n    },\n    {\n      \"column\": \"confidence\",\n      \"properties\": {\n        \"dtype\": \"number\",\n        \"std\": 0.0,\n        \"min\": 1.0,\n        \"max\": 1.0,\n        \"num_unique_values\": 1,\n        \"samples\": [\n          1.0\n        ],\n        \"semantic_type\": \"\",\n        \"description\": \"\"\n      }\n    },\n    {\n      \"column\": \"class\",\n      \"properties\": {\n        \"dtype\": \"category\",\n        \"num_unique_values\": 23,\n        \"samples\": [\n          \"Pepper_Cercospora\"\n        ],\n        \"semantic_type\": \"\",\n        \"description\": \"\"\n      }\n    },\n    {\n      \"column\": \"ymin\",\n      \"properties\": {\n        \"dtype\": \"number\",\n        \"std\": 682.4848290895419,\n        \"min\": 0.0,\n        \"max\": 4295.942028985507,\n        \"num_unique_values\": 30778,\n        \"samples\": [\n          1290.0847039473683\n        ],\n        \"semantic_type\": \"\",\n        \"description\": \"\"\n      }\n    },\n    {\n      \"column\": \"xmin\",\n      \"properties\": {\n        \"dtype\": \"number\",\n        \"std\": 973.8551040549643,\n        \"min\": 0.0,\n        \"max\": 5908.600180505415,\n        \"num_unique_values\": 32249,\n        \"samples\": [\n          662.6241548\n        ],\n        \"semantic_type\": \"\",\n        \"description\": \"\"\n      }\n    },\n    {\n      \"column\": \"ymax\",\n      \"properties\": {\n        \"dtype\": \"number\",\n        \"std\": 714.8256137154837,\n        \"min\": 30.998990918264383,\n        \"max\": 4480.000000000001,\n        \"num_unique_values\": 31224,\n        \"samples\": [\n          1330.4139529058116\n        ],\n        \"semantic_type\": \"\",\n        \"description\": \"\"\n      }\n    },\n    {\n      \"column\": \"xmax\",\n      \"properties\": {\n        \"dtype\": \"number\",\n        \"std\": 1026.2129935264243,\n        \"min\": 17.22567287784679,\n        \"max\": 6567.427797833935,\n        \"num_unique_values\": 32904,\n        \"samples\": [\n          338.5559210526316\n        ],\n        \"semantic_type\": \"\",\n        \"description\": \"\"\n      }\n    }\n  ]\n}"
            }
          },
          "metadata": {},
          "execution_count": 11
        }
      ]
    },
    {
      "cell_type": "code",
      "source": [
        "# Check the number of unique classes\n",
        "train['class'].nunique()"
      ],
      "metadata": {
        "id": "BeIIc01ytm8I",
        "colab": {
          "base_uri": "https://localhost:8080/"
        },
        "outputId": "9b30c4d6-ebcf-4c38-bedf-86a04d083f95"
      },
      "execution_count": 12,
      "outputs": [
        {
          "output_type": "execute_result",
          "data": {
            "text/plain": [
              "23"
            ]
          },
          "metadata": {},
          "execution_count": 12
        }
      ]
    },
    {
      "cell_type": "code",
      "source": [
        "# Check the unique classes\n",
        "train['class'].unique()"
      ],
      "metadata": {
        "id": "lUtqefl_iSc7"
      },
      "execution_count": null,
      "outputs": []
    },
    {
      "cell_type": "markdown",
      "source": [
        "There are 23 different annotated classes indicating there are 23 different diseases identified from the images.\n",
        "The ymin, ymax, xmin, xmax are the positions of the various bouding boxes around the disease.\n",
        "We will need to convert the train set to YOLO format. The following preprocessing steps will take place:\n",
        "1. Perform data validation to ensure features are of the correct data type.\n",
        "2. We will convert the values under the class column to numeric\n",
        "3. We will scale values of ymin, ymax, xmin, xmax"
      ],
      "metadata": {
        "id": "WGvr3ZoijJ6i"
      }
    },
    {
      "cell_type": "code",
      "source": [
        "# Check the data\n",
        "train.info()"
      ],
      "metadata": {
        "id": "N3S_414ezHQN",
        "colab": {
          "base_uri": "https://localhost:8080/"
        },
        "outputId": "dc1bef7e-a875-44a3-915f-b872695e740c"
      },
      "execution_count": 14,
      "outputs": [
        {
          "output_type": "stream",
          "name": "stdout",
          "text": [
            "<class 'pandas.core.frame.DataFrame'>\n",
            "RangeIndex: 41029 entries, 0 to 41028\n",
            "Data columns (total 7 columns):\n",
            " #   Column      Non-Null Count  Dtype  \n",
            "---  ------      --------------  -----  \n",
            " 0   Image_ID    41029 non-null  object \n",
            " 1   confidence  41029 non-null  float64\n",
            " 2   class       41029 non-null  object \n",
            " 3   ymin        41029 non-null  float64\n",
            " 4   xmin        41029 non-null  float64\n",
            " 5   ymax        41029 non-null  float64\n",
            " 6   xmax        41029 non-null  float64\n",
            "dtypes: float64(5), object(2)\n",
            "memory usage: 2.2+ MB\n"
          ]
        }
      ]
    },
    {
      "cell_type": "code",
      "source": [
        "'''\n",
        "The data is very clean and there are no missing values and the data types are correct.\n",
        "'''"
      ],
      "metadata": {
        "id": "F6IzwdcbzN99",
        "colab": {
          "base_uri": "https://localhost:8080/",
          "height": 36
        },
        "outputId": "524607d0-5751-4ab6-ae06-9b5a5ce1ee87"
      },
      "execution_count": 15,
      "outputs": [
        {
          "output_type": "execute_result",
          "data": {
            "text/plain": [
              "'\\nThe data is very clean and there are no missing values and the data types are correct.\\n'"
            ],
            "application/vnd.google.colaboratory.intrinsic+json": {
              "type": "string"
            }
          },
          "metadata": {},
          "execution_count": 15
        }
      ]
    },
    {
      "cell_type": "markdown",
      "source": [
        "#Create YOLO Format Annotation for Train"
      ],
      "metadata": {
        "id": "jFCSZESbahNg"
      }
    },
    {
      "cell_type": "code",
      "source": [
        "# Convert class to numeric\n",
        "le = LabelEncoder()\n",
        "train['class'] = le.fit_transform(train['class'])\n",
        "\n",
        "# Check the class column\n",
        "train['class'].unique()"
      ],
      "metadata": {
        "colab": {
          "base_uri": "https://localhost:8080/"
        },
        "id": "i--LDRAl0mHm",
        "outputId": "6b0bff44-fcb1-4c5d-b11d-933292e0fabc"
      },
      "execution_count": 16,
      "outputs": [
        {
          "output_type": "execute_result",
          "data": {
            "text/plain": [
              "array([ 5,  8,  0,  1, 16, 14, 22, 12, 13,  4,  2,  9, 18, 10, 19,  6, 17,\n",
              "       11, 20, 15, 21,  7,  3])"
            ]
          },
          "metadata": {},
          "execution_count": 16
        }
      ]
    },
    {
      "cell_type": "code",
      "source": [
        "# Define the Image dimensions\n",
        "image_width = 640\n",
        "image_height = 640\n",
        "\n",
        "# Directory to save YOLO annotations\n",
        "output_dir = '/content/dataset/labels/train'\n",
        "os.makedirs(output_dir, exist_ok=True)\n",
        "\n",
        "# Convert the data into YOLO format\n",
        "for index, row in train.iterrows():\n",
        "    # Extract relevant data from each row\n",
        "    image_name = row['Image_ID'].replace('.jpg', '')  # Image name without extension\n",
        "    class_id = row['class']  # The class/category ID\n",
        "    xmin, ymin, xmax, ymax = row['xmin'], row['ymin'], row['xmax'], row['ymax']  # Bounding box coordinates\n",
        "\n",
        "    # Calculate the center coordinates and dimensions in YOLO format (normalized)\n",
        "    x_center = ((xmax + xmin) / 2) / image_width\n",
        "    y_center = ((ymax + ymin) / 2) / image_height\n",
        "    width = (xmax - xmin) / image_width\n",
        "    height = (ymax - ymin) / image_height\n",
        "\n",
        "    # Create a corresponding annotation file for each image\n",
        "    train_yolo_annotation_file = os.path.join(output_dir, f'{image_name}.txt')\n",
        "\n",
        "    # Write the annotation to the file\n",
        "    with open(train_yolo_annotation_file, 'a') as f:\n",
        "        f.write(f\"{class_id} {x_center} {y_center} {width} {height}\\n\")"
      ],
      "metadata": {
        "id": "Oh4zaGsC2NOI"
      },
      "execution_count": 17,
      "outputs": []
    },
    {
      "cell_type": "markdown",
      "source": [
        "#Read the Images from the Dataset"
      ],
      "metadata": {
        "id": "U315FZiadxZk"
      }
    },
    {
      "cell_type": "code",
      "source": [
        "#Path to image\n",
        "source_path = '/content/drive/MyDrive/ghana-crop-disease.zip'\n",
        "\n",
        "#Destination Path\n",
        "extraction_path = '/content/dataset/'\n",
        "os.makedirs(extraction_path, exist_ok=True)\n",
        "#Read images\n",
        "with ZipFile(source_path, 'r') as zip_ref:\n",
        "  zip_ref.extractall(extraction_path)\n",
        "  #Output if extraction is done\n",
        "  print('Done')"
      ],
      "metadata": {
        "colab": {
          "base_uri": "https://localhost:8080/"
        },
        "id": "d9YZgHGda-VG",
        "outputId": "47fce548-0c3d-4736-cd22-11f54ddc9a16"
      },
      "execution_count": 18,
      "outputs": [
        {
          "output_type": "stream",
          "name": "stdout",
          "text": [
            "Done\n"
          ]
        }
      ]
    },
    {
      "cell_type": "code",
      "source": [
        "'''\n",
        "After extracting delete the submission file test and train from the dataset folder.\n",
        "These are redundant files\n",
        "'''"
      ],
      "metadata": {
        "colab": {
          "base_uri": "https://localhost:8080/",
          "height": 36
        },
        "id": "d0VHY5Lglna8",
        "outputId": "92b6f98d-0e4f-46cd-e338-d59fcf3aa72d"
      },
      "execution_count": 19,
      "outputs": [
        {
          "output_type": "execute_result",
          "data": {
            "text/plain": [
              "'\\nAfter extracting delete the submission file test and train from the dataset folder.\\nThese are redundant files\\n'"
            ],
            "application/vnd.google.colaboratory.intrinsic+json": {
              "type": "string"
            }
          },
          "metadata": {},
          "execution_count": 19
        }
      ]
    },
    {
      "cell_type": "markdown",
      "source": [
        "#Creating and Organizing the Directory for YOLOv5"
      ],
      "metadata": {
        "id": "DgKrh4WOmwT5"
      }
    },
    {
      "cell_type": "markdown",
      "source": [
        "From the above cells we have created the YOLO format for the test annotations created and have extracted the images. Now we will create directories and prepare it for the YOLOv5 model.In the cell below, we are moving the images into train subdirectory"
      ],
      "metadata": {
        "id": "s2tFMatnXsFo"
      }
    },
    {
      "cell_type": "code",
      "source": [
        "# Path to extracted images\n",
        "all_images_dir = '/content/dataset/images'\n",
        "\n",
        "# Directory to save train images\n",
        "train_image_dir = '/content/dataset/images/train'\n",
        "os.makedirs(train_image_dir, exist_ok=True)\n",
        "\n",
        "# Directory to save validation images\n",
        "val_image_dir = '/content/dataset/images/val'\n",
        "os.makedirs(val_image_dir, exist_ok=True)\n",
        "\n",
        "# Path to your YOLO train annotations\n",
        "train_labels_dir = '/content/dataset/labels/train'\n",
        "\n",
        "# List of images that are in the train set (based on annotation files)\n",
        "train_images = [os.path.splitext(f)[0] + '.jpg' for f in os.listdir(train_labels_dir) if f.endswith('.txt')]\n",
        "\n",
        "# Move corresponding train images to the train folder\n",
        "for image_name in train_images:\n",
        "    src_image_path = os.path.join(all_images_dir, image_name)\n",
        "    dest_image_path = os.path.join(train_image_dir, image_name)\n",
        "\n",
        "    if os.path.exists(src_image_path):\n",
        "        shutil.move(src_image_path, dest_image_path)\n",
        "    else:\n",
        "        print(f\"Image {image_name} not found in {all_images_dir}\")\n",
        "\n",
        "print(f\"Train images have been moved to: {train_image_dir}\")\n"
      ],
      "metadata": {
        "id": "fcED3unBoy8v",
        "colab": {
          "base_uri": "https://localhost:8080/"
        },
        "outputId": "7a117d38-ed78-450e-d5a8-e7501f952783"
      },
      "execution_count": 21,
      "outputs": [
        {
          "output_type": "stream",
          "name": "stdout",
          "text": [
            "Train images have been moved to: /content/dataset/images/train\n"
          ]
        }
      ]
    },
    {
      "cell_type": "markdown",
      "source": [
        "The cell below moves the rest of the images into val subdirectory"
      ],
      "metadata": {
        "id": "JNjfLIAXYsKb"
      }
    },
    {
      "cell_type": "code",
      "source": [
        "# Move the remaining images (the ones that haven't been moved to train) to the val folder\n",
        "for image_name in os.listdir(all_images_dir):\n",
        "    src_image_path = os.path.join(all_images_dir, image_name)\n",
        "\n",
        "    # Ensure we're only moving image files, not directories\n",
        "    if os.path.isfile(src_image_path):\n",
        "        dest_image_path = os.path.join(val_image_dir, image_name)\n",
        "        shutil.move(src_image_path, dest_image_path)\n",
        "\n",
        "print(f\"Validation images have been moved to: {val_image_dir}\")"
      ],
      "metadata": {
        "colab": {
          "base_uri": "https://localhost:8080/"
        },
        "id": "Ri7qnHd9ZMav",
        "outputId": "79cc4179-2f22-40ac-fdb8-183413c56a19"
      },
      "execution_count": 25,
      "outputs": [
        {
          "output_type": "stream",
          "name": "stdout",
          "text": [
            "Validation images have been moved to: /content/dataset/images/val\n"
          ]
        }
      ]
    },
    {
      "cell_type": "code",
      "source": [
        "# Paths for current image directories\n",
        "val_dir = '/content/dataset/images/val'     # path for val images should be\n",
        "train_dir_nested = '/content/dataset/images/val/train'  # Current path of the train folder (inside val)\n",
        "train_dir_final = '/content/dataset/images/train'       # Desired location for train folder\n",
        "\n",
        "# 1. Move all files from val directory, but check if they already exist to avoid conflicts\n",
        "for image_name in os.listdir(val_dir):\n",
        "    src_image_path = os.path.join(val_dir, image_name)\n",
        "    dest_image_path = os.path.join(val_dir, image_name)\n",
        "\n",
        "    # Move only image files (ignore directories like 'train/') and check if they already exist\n",
        "    if os.path.isfile(src_image_path) and not os.path.exists(dest_image_path):\n",
        "        shutil.move(src_image_path, dest_image_path)\n",
        "\n",
        "# 2. Move the train folder out of val and place it in the correct location\n",
        "if os.path.exists(train_dir_nested):\n",
        "    shutil.move(train_dir_nested, train_dir_final)\n",
        "    print(f\"Train folder has been moved to: {train_dir_final}\")\n",
        "else:\n",
        "    print(f\"Train folder not found at {train_dir_nested}.\")\n",
        "\n",
        "print(f\"Validation images are in: {val_dir}\")"
      ],
      "metadata": {
        "colab": {
          "base_uri": "https://localhost:8080/"
        },
        "id": "XMufq_2FbV5u",
        "outputId": "64d32728-0834-4172-d9b5-3952b2e50c75"
      },
      "execution_count": 27,
      "outputs": [
        {
          "output_type": "stream",
          "name": "stdout",
          "text": [
            "Train folder has been moved to: /content/dataset/images/train\n",
            "Validation images are in: /content/dataset/images/val\n"
          ]
        }
      ]
    },
    {
      "cell_type": "markdown",
      "source": [
        "# Creating YAML Configuration file"
      ],
      "metadata": {
        "id": "GuiaTfGtfT0E"
      }
    },
    {
      "cell_type": "code",
      "source": [
        "# instantiate the yaml path\n",
        "yaml_path = '/content/dataset/dataset.yaml'\n",
        "\n",
        "# add the path\n",
        "os.makedirs(os.path.dirname(yaml_path), exist_ok=True)\n",
        "with open(yaml_path, 'w') as yaml_file:\n",
        "    yaml_file.dump()\n",
        "# Define the details of your dataset for YOLOv5\n",
        "dataset_yaml = {\n",
        "    'train': '/content/dataset/images/train',  # Path to your training images\n",
        "    'val': '/content/dataset/images/val',      # Path to your validation images\n",
        "    'nc': 21,  # Number of different classes\n",
        "    'names': ['Pepper_Bacterial_Spot', 'Pepper_Fusarium', 'Corn_Cercospora_Leaf_Spot','']\n",
        "}\n",
        "\n",
        "# Instantiate the yaml path\n",
        "yaml_path = '/content/dataset/dataset.yaml'\n",
        "\n",
        "# Create directory and write the YAML file\n",
        "os.makedirs(os.path.dirname(yaml_path), exist_ok=True)\n",
        "with open(yaml_path, 'w') as yaml_file:\n",
        "    yaml.dump(dataset_yaml, yaml_file, default_flow_style=False)\n",
        "\n",
        "print(f\"YAML file created at: {yaml_path}\")"
      ],
      "metadata": {
        "id": "ht2MkQnHfXiG"
      },
      "execution_count": null,
      "outputs": []
    }
  ]
}